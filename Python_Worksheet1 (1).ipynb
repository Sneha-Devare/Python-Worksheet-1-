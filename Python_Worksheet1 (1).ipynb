{
 "cells": [
  {
   "cell_type": "markdown",
   "id": "7911a936-238c-4923-b94b-6f94a08b695d",
   "metadata": {},
   "source": [
    "# **Python Worksheet 1 - Operators, Conditional Statements, loops**"
   ]
  },
  {
   "cell_type": "code",
   "execution_count": 5,
   "id": "40c52593-3798-4f05-b87a-9603c7ece910",
   "metadata": {},
   "outputs": [
    {
     "name": "stdin",
     "output_type": "stream",
     "text": [
      "Enter any number : 30\n"
     ]
    },
    {
     "name": "stdout",
     "output_type": "stream",
     "text": [
      "Yes\n"
     ]
    }
   ],
   "source": [
    "# 1. Check whether a given number n is both a multiple of 3 and 5, but not divisible by 7.\n",
    "\n",
    "n = int(input(\"Enter any number :\"))\n",
    "if n % 3 == 0 and n % 5 == 0 and n % 7 != 0:\n",
    "    print(\"Yes\")\n",
    "else:\n",
    "    print(\"No\")\n",
    "    \n",
    "\n",
    "# 1.5 min"
   ]
  },
  {
   "cell_type": "code",
   "execution_count": 31,
   "id": "c4e22424-82af-45fb-adb1-f4f7bd0fe6e2",
   "metadata": {},
   "outputs": [
    {
     "name": "stdin",
     "output_type": "stream",
     "text": [
      "Enter bill amount : 1500\n"
     ]
    },
    {
     "name": "stdout",
     "output_type": "stream",
     "text": [
      "Your bill is : 1500\n",
      "You got 75.0 rs discount.\n",
      "Total payable amount is : 1425.0\n"
     ]
    }
   ],
   "source": [
    "# 2. A store has a discount policy:\n",
    "# • If the bill > ₹5000, give 20% discount\n",
    "# • If bill is between ₹2500 and ₹5000, give 10% discount\n",
    "# • If bill is below ₹2500 but above ₹1000, give 5% discount\n",
    "# • No discount otherwise\n",
    "# Write a program to compute the final payable amount.\n",
    "\n",
    "\n",
    "bill = int(input(\"Enter bill amount :\"))\n",
    "if bill <= 1000:\n",
    "    discount = 0\n",
    "elif bill > 5000:\n",
    "    discount = bill * 0.2\n",
    "elif bill >= 2500 and bill <= 5000:\n",
    "    discount = bill * 0.1\n",
    "elif bill > 1000 and bill < 2500:\n",
    "    discount = bill * 0.05\n",
    "print(\"Your bill is :\", bill)\n",
    "print(f\"You got {discount} rs discount.\")\n",
    "print(\"Total payable amount is :\", bill - discount)\n",
    "\n",
    "# 12 min "
   ]
  },
  {
   "cell_type": "code",
   "execution_count": null,
   "id": "fa54b870-7d73-4a0a-ad30-478453ec6e89",
   "metadata": {},
   "outputs": [],
   "source": [
    "# 3. Print all prime numbers between 50 and 100."
   ]
  },
  {
   "cell_type": "code",
   "execution_count": 71,
   "id": "9b01561d-b9bf-4973-a1c7-0341a8e0b0cf",
   "metadata": {},
   "outputs": [
    {
     "name": "stdin",
     "output_type": "stream",
     "text": [
      "Enter attendance in percentage : 12\n",
      "Enter marks of internal exam : 12\n",
      "Enter marks of Physics, Chemistry and Maths separated by spaces : 12 12 12\n"
     ]
    },
    {
     "name": "stdout",
     "output_type": "stream",
     "text": [
      "Not eligible for certificate.\n",
      "Your attendance is less than 75.\n"
     ]
    }
   ],
   "source": [
    "# 4. A student is eligible for a certificate only if:\n",
    "# • Attendance is above 75%\n",
    "# • Internal score > 35\n",
    "# • Has not failed in any subject\n",
    "# Write a decision-making program for the same.\n",
    "\n",
    "attendance = int(input(\"Enter attendance in percentage :\"))\n",
    "internal_score = int(input(\"Enter marks of internal exam :\"))\n",
    "subject_marks = list(map(int, input(\"Enter marks of Physics, Chemistry and Maths separated by spaces :\").split()))\n",
    "if attendance > 75:\n",
    "    if internal_score > 35:\n",
    "        sub = all(x > 35 for x in subject_marks)\n",
    "        if sub == True:\n",
    "            print(\"Eligible for Certificate.\")\n",
    "        else:\n",
    "            print(\"Not eligible for certificate.\")\n",
    "            print(\"Your marks for subject is less than 35.\")\n",
    "    else:\n",
    "        print(\"Not eligible for certificate.\")\n",
    "        print(\"Your internal score is less than 35.\")\n",
    "else:\n",
    "    print(\"Not eligible for certificate.\")\n",
    "    print(\"Your attendance is less than 75.\")\n",
    "\n",
    "# 10 min "
   ]
  },
  {
   "cell_type": "code",
   "execution_count": 81,
   "id": "a417c4d2-ba58-448d-8408-2dada31f297d",
   "metadata": {},
   "outputs": [
    {
     "name": "stdout",
     "output_type": "stream",
     "text": [
      "Mood Bot❤️\n",
      "How are you feeling today ?\n",
      "1. Happy\n",
      "2. Sad\n",
      "3. Angry\n",
      "4. Excited\n",
      "Choice from 1 to 4 as per your mood\n"
     ]
    },
    {
     "name": "stdin",
     "output_type": "stream",
     "text": [
      "Enter your choice : 6\n"
     ]
    },
    {
     "name": "stdout",
     "output_type": "stream",
     "text": [
      "Invalid Choice\n"
     ]
    }
   ],
   "source": [
    "# 5. Create a mini \"Mood Bot\" that accepts a user's mood input (Happy, Sad, Angry, Excited) and\n",
    "# responds with a suitable message.\n",
    "\n",
    "print(\"Mood Bot❤️\")\n",
    "print(\"How are you feeling today ?\")\n",
    "print(\"1. Happy\")\n",
    "print(\"2. Sad\")\n",
    "print(\"3. Angry\")\n",
    "print(\"4. Excited\")\n",
    "print(\"Choice from 1 to 4 as per your mood\")\n",
    "choice = int(input(\"Enter your choice :\"))\n",
    "if choice < 1 or choice > 4:\n",
    "    print('Invalid Choice')\n",
    "elif choice == 1:\n",
    "    print(\"\\nI am so glad to see you happy - keep smiling, it suits you!\")\n",
    "elif choice == 2:\n",
    "    print(\"\\nI am here for you - things will better, just hold on.\")\n",
    "elif choice == 3:\n",
    "    print(\"\\nTake a deep breath - I understand you're upset, and I am here if you want to talk.\")\n",
    "elif choice == 4:\n",
    "    print(\"\\nYour excitement is contagious - Go Rock It.\")\n",
    "\n",
    "# 9 min"
   ]
  },
  {
   "cell_type": "code",
   "execution_count": 89,
   "id": "0a6cd93d-43f7-4aa7-93fa-550779c9a889",
   "metadata": {},
   "outputs": [
    {
     "name": "stdout",
     "output_type": "stream",
     "text": [
      "True\n"
     ]
    }
   ],
   "source": [
    "# 6. Given a list of numbers, check if \"any\" number is divisible by both 4 and 6 using a loop and\n",
    "# logical operators.\n",
    "\n",
    "\n",
    "# python any() function returns True if any of the elements of a given iterable(list, dict, tuple, set, etc.) are True else returns False.\n",
    "\n",
    "list2 = [10, 12, 24, 40, 12, 15, 21, 90]\n",
    "res = any(x % 4 == 0 and x % 6 == 0 for x in list2)\n",
    "print(res)    # gives output 2 because 12, 24 are divisible by both 4 and 6\n",
    "\n",
    "# 20 min"
   ]
  },
  {
   "cell_type": "code",
   "execution_count": 13,
   "id": "f7a30d1e-4990-4738-a655-572dbaf933de",
   "metadata": {},
   "outputs": [
    {
     "name": "stdin",
     "output_type": "stream",
     "text": [
      "Enter weight is kilograms : 60\n",
      "Enter height is meters : 1.6\n"
     ]
    },
    {
     "name": "stdout",
     "output_type": "stream",
     "text": [
      "\n",
      "Your BMI is : 23.437499999999996\n",
      "You have a normal weight.\n"
     ]
    }
   ],
   "source": [
    "# 7. Build a BMI(body mass index) calculator that takes weight and height, computes BMI, and classifies as:\n",
    "# • Underweight\n",
    "# • Normal\n",
    "# • Overweight\n",
    "# • Obese\n",
    "# BMI checks whether your weight is healthy for your body\n",
    "# BMI = weight / (height * height)\n",
    "\n",
    "weight = float(input(\"Enter weight is kilograms :\"))\n",
    "height = float(input(\"Enter height is meters :\"))\n",
    "BMI = weight / (height * height)\n",
    "print(\"\\nYour BMI is :\", BMI)\n",
    "if BMI < 18.5:\n",
    "    print(\"You are underweight.\")\n",
    "elif BMI < 25:\n",
    "    print(\"You have a normal weight.\")\n",
    "elif BMI < 30:\n",
    "    print(\"You are overweight.\")\n",
    "else:\n",
    "    print(\"You are obesse.\")\n",
    "\n",
    "# 16 min "
   ]
  },
  {
   "cell_type": "code",
   "execution_count": 133,
   "id": "01b88a4a-13c4-4802-b57d-07a3cd86d2ae",
   "metadata": {},
   "outputs": [
    {
     "name": "stdout",
     "output_type": "stream",
     "text": [
      "Choose option as per your need :\n",
      "1. Withdraw\n",
      "2. Deposit\n",
      "3. Check Balance\n",
      "4. Exit\n"
     ]
    },
    {
     "name": "stdin",
     "output_type": "stream",
     "text": [
      "Enter your option : 1\n",
      "Enter amount to withdraw : 500\n"
     ]
    },
    {
     "name": "stdout",
     "output_type": "stream",
     "text": [
      "withdraw amount : 500\n",
      "Now your balance is : 9500\n"
     ]
    },
    {
     "name": "stdin",
     "output_type": "stream",
     "text": [
      "Enter your option : 2\n",
      "Enter amount to deposit : 2500\n"
     ]
    },
    {
     "name": "stdout",
     "output_type": "stream",
     "text": [
      "Deposit amount : 2500\n",
      "Now your balance is : 12000\n"
     ]
    },
    {
     "name": "stdin",
     "output_type": "stream",
     "text": [
      "Enter your option : 3\n"
     ]
    },
    {
     "name": "stdout",
     "output_type": "stream",
     "text": [
      "Your current balance is : 12000\n"
     ]
    },
    {
     "name": "stdin",
     "output_type": "stream",
     "text": [
      "Enter your option : 4\n"
     ]
    },
    {
     "name": "stdout",
     "output_type": "stream",
     "text": [
      "Thank you for using ATM GoodBye\n"
     ]
    }
   ],
   "source": [
    "# 8. Build a mini ATM simulation:\n",
    "# • Start with a balance of ₹10,000\n",
    "# • Let user withdraw, deposit, or check balance\n",
    "# • Use loops and conditionals to simulate multiple operations\n",
    "\n",
    "balance = 10000\n",
    "print(\"Choose option as per your need :\")\n",
    "print(\"1. Withdraw\")\n",
    "print(\"2. Deposit\")\n",
    "print(\"3. Check Balance\")\n",
    "print(\"4. Exit\")\n",
    "while True:\n",
    "   option = int(input(\"Enter your option :\"))\n",
    "   if  option < 1 and option > 4:\n",
    "       print(\"Invalid option.\")\n",
    "   elif option == 1:\n",
    "       withdraw = int(input(\"Enter amount to withdraw :\"))\n",
    "       if withdraw < balance:\n",
    "           balance = balance - withdraw\n",
    "           print(\"withdraw amount :\", withdraw)\n",
    "           print(\"Now your balance is :\", balance)\n",
    "       else:\n",
    "           print(\"Insufficient funds.\")\n",
    "           print(\"Please enter withdraw amount less than your balance.\")\n",
    "   elif option == 2:\n",
    "       deposit = int(input(\"Enter amount to deposit :\"))\n",
    "       print('Deposit amount :', deposit)\n",
    "       balance = balance + deposit\n",
    "       print(\"Now your balance is :\", balance)\n",
    "   elif option == 3:\n",
    "       print(\"Your current balance is :\", balance)\n",
    "   elif option == 4:\n",
    "       print(\"Thank you for using ATM GoodBye\")\n",
    "       break \n",
    "\n",
    "# 20 min"
   ]
  },
  {
   "cell_type": "code",
   "execution_count": 43,
   "id": "f59c8894-e8d7-4177-980a-7dc432b2a052",
   "metadata": {},
   "outputs": [
    {
     "name": "stdin",
     "output_type": "stream",
     "text": [
      "Enter no to check it is armstrong or not : 123\n"
     ]
    },
    {
     "name": "stdout",
     "output_type": "stream",
     "text": [
      "Number is not Armstrong.\n"
     ]
    }
   ],
   "source": [
    "# 9. Write a program to check whether a number is Armstrong (e.g., 153 → 1³ + 5³ + 3³ = 153).\n",
    "\n",
    "number = input(\"Enter no to check it is armstrong or not :\")\n",
    "cube_of_all_digits = 0\n",
    "for digit in number:\n",
    "    digit = int(digit)\n",
    "    cube_of_all_digits = cube_of_all_digits + pow(digit, 3)\n",
    "if int(number) == cube_of_all_digits :\n",
    "    print(\"Number is Armstrong.\")\n",
    "else:\n",
    "    print(\"Number is not Armstrong.\")\n",
    "\n",
    "# 9.5 min"
   ]
  },
  {
   "cell_type": "code",
   "execution_count": null,
   "id": "ac0c2e9f-db71-4eec-8dae-fefeadb48af8",
   "metadata": {},
   "outputs": [],
   "source": [
    "# 10. Write a program to check if a number is Kaprekar (e.g., 45² = 2025 → 20 + 25 = 45).\n",
    "\n",
    "number = int(input(\"Enter any number to check it is Kaprekar or not :\"))\n"
   ]
  },
  {
   "cell_type": "code",
   "execution_count": 53,
   "id": "1bb765f3-73a8-4d6a-948a-8fb6b8f9e619",
   "metadata": {},
   "outputs": [
    {
     "name": "stdout",
     "output_type": "stream",
     "text": [
      "Rock Paper Scissors Game....\n"
     ]
    },
    {
     "name": "stdin",
     "output_type": "stream",
     "text": [
      "User1, enter your choice (rock / paper / scissor) : paper\n",
      "User2, enter your choice (rock / paper / scissor) : rock\n"
     ]
    },
    {
     "name": "stdout",
     "output_type": "stream",
     "text": [
      "User1 win!\n"
     ]
    }
   ],
   "source": [
    "# 11. Simulate a rock-paper-scissors game for 2 users using conditionals and loops.\n",
    "\n",
    "print(\"Rock Paper Scissors Game....\")\n",
    "user1 = input(\"User1, enter your choice (rock / paper / scissor) :\").lower()\n",
    "user2 = input(\"User2, enter your choice (rock / paper / scissor) :\").lower()\n",
    "if user1 == user2 :\n",
    "    print(\"It's a tie.\")\n",
    "elif user1 == \"rock\":\n",
    "    if user2 == \"paper\":\n",
    "        print(\"User2 win!\")\n",
    "    else:\n",
    "        print(\"User1 win!\")\n",
    "elif user1 == \"paper\":\n",
    "    if user2 == \"scissor\":\n",
    "        print(\"User2 win!\")\n",
    "    else:\n",
    "        print(\"User1 win!\")\n",
    "elif user1 == \"scissor\":\n",
    "    if user2 == \"rock\":\n",
    "        print(\"User2 win!\")\n",
    "    else:\n",
    "        print(\"User1 win!\")\n",
    "\n",
    "# 15 min"
   ]
  },
  {
   "cell_type": "code",
   "execution_count": 57,
   "id": "26b95060-c3a0-4f8b-8268-6a368fe167dc",
   "metadata": {},
   "outputs": [
    {
     "name": "stdout",
     "output_type": "stream",
     "text": [
      "Both are same\n"
     ]
    }
   ],
   "source": [
    "# 12. Input two lists and compare whether their set of elements (regardless of order and duplicates) are the same using operators.\n",
    "\n",
    "list1 = [1, 5, 2, 3, 4, 5, 3, 2, 1]\n",
    "list2 = [1, 5, 2, 3, 4, 5, 2]\n",
    "s1 = set(list1)\n",
    "s2 = set(list2)\n",
    "if s1 == s2 :\n",
    "    print(\"Both are same\")\n",
    "else:\n",
    "    print(\"Both are not same\")\n",
    "\n",
    "# 3 min"
   ]
  },
  {
   "cell_type": "code",
   "execution_count": 73,
   "id": "6c57b798-5d9d-4074-abe9-bf3fc266b80a",
   "metadata": {},
   "outputs": [
    {
     "name": "stdout",
     "output_type": "stream",
     "text": [
      "Year 1 : 1100.0 rs\n",
      "Year 2 : 1210.0 rs\n",
      "Year 3 : 1331.0 rs\n",
      "Year 4 : 1464.1 rs\n",
      "Year 5 : 1610.51 rs\n",
      "Year 6 : 1771.561 rs\n",
      "Year 7 : 1948.7170999999998 rs\n",
      "Year 8 : 2143.5888099999997 rs\n"
     ]
    }
   ],
   "source": [
    "# 13. Create a step-wise interest calculator using a loop:\n",
    "# • ₹1000 initial amount\n",
    "# • 10% interest per year\n",
    "# • Until it doubles → print value per year\n",
    "\n",
    "initial_amount = 1000\n",
    "final_amount = 2 * initial_amount\n",
    "current_amount = initial_amount\n",
    "year = 0\n",
    "\n",
    "while current_amount < final_amount:\n",
    "    year += 1\n",
    "    interest = current_amount * 0.10\n",
    "    current_amount = current_amount + interest\n",
    "    print(f\"Year {year} : {current_amount} rs\")\n",
    "    \n",
    "# 35 min"
   ]
  },
  {
   "cell_type": "code",
   "execution_count": 123,
   "id": "bb80c2ff-9560-415a-9232-ab612ba4fc58",
   "metadata": {},
   "outputs": [
    {
     "name": "stdin",
     "output_type": "stream",
     "text": [
      "Enter your pin : 1236\n"
     ]
    },
    {
     "name": "stdout",
     "output_type": "stream",
     "text": [
      "Access Denied\n"
     ]
    },
    {
     "name": "stdin",
     "output_type": "stream",
     "text": [
      "Enter your pin : 1456\n"
     ]
    },
    {
     "name": "stdout",
     "output_type": "stream",
     "text": [
      "Access Denied\n"
     ]
    },
    {
     "name": "stdin",
     "output_type": "stream",
     "text": [
      "Enter your pin : 1236\n"
     ]
    },
    {
     "name": "stdout",
     "output_type": "stream",
     "text": [
      "Access Denied\n",
      "Try again later...\n"
     ]
    }
   ],
   "source": [
    "# 14. Ask the user to guess a 4-digit PIN. Allow 3 tries.\n",
    "# • If correct: print “Unlocked”\n",
    "# • If wrong all attempts: print “Access Denied”\n",
    "\n",
    "original_pin = '1234'\n",
    "tries = 3\n",
    "for i in range(1, 4):\n",
    "   your_pin = input(\"Enter your pin :\")\n",
    "   if len(your_pin) == len(original_pin):\n",
    "      if original_pin == your_pin:\n",
    "        print(\"Unlocked\")\n",
    "        break\n",
    "      else:\n",
    "        print(\"Access Denied\")\n",
    "        tries = tries - 1\n",
    "   else:\n",
    "        print(\"Access Denied\")\n",
    "        tries = tries - 1\n",
    "if tries == 0:\n",
    "    print(\"Try again later...\")       \n",
    "# 16 min"
   ]
  },
  {
   "cell_type": "code",
   "execution_count": 55,
   "id": "8bb09993-cbe7-441d-98c4-1741870826ad",
   "metadata": {},
   "outputs": [
    {
     "name": "stdin",
     "output_type": "stream",
     "text": [
      "Enter number of list: 1\n",
      "Enter number of list: 2\n",
      "Enter number of list: 1\n",
      "Enter number of list: 2\n",
      "Enter number of list: 1\n",
      "Enter number of list: 2\n",
      "Enter number of list: 1\n",
      "Enter number of list: 2\n",
      "Enter number of list: 1\n",
      "Enter number of list: 2\n"
     ]
    },
    {
     "name": "stdout",
     "output_type": "stream",
     "text": [
      "[1, 2, 1, 2, 1, 2, 1, 2, 1, 2]\n",
      "Product of even numbers : 32\n",
      "Sum of only odd numbers : 5\n"
     ]
    }
   ],
   "source": [
    "# 15. Take 10 numbers from user. Show:\n",
    "# • Sum of only odd numbers.\n",
    "# • Product of even numbers.\n",
    "\n",
    "list1 = []\n",
    "for i in range(1, 11):\n",
    "    num = int(input(f\"Enter number of list:\"))\n",
    "    list1.append(num)\n",
    "print(list1)\n",
    "\n",
    "\n",
    "sumi = 0\n",
    "product = 1\n",
    "for x in list1:\n",
    "    if x % 2 == 0:  \n",
    "        product = product * x     # product of even numbers\n",
    "    else:\n",
    "        sumi = sumi + x        # sum of odd numbers\n",
    "\n",
    "print(\"Product of even numbers :\", product)\n",
    "print(\"Sum of only odd numbers :\", sumi)\n",
    "\n",
    "# 12 min "
   ]
  }
 ],
 "metadata": {
  "kernelspec": {
   "display_name": "Python [conda env:base] *",
   "language": "python",
   "name": "conda-base-py"
  },
  "language_info": {
   "codemirror_mode": {
    "name": "ipython",
    "version": 3
   },
   "file_extension": ".py",
   "mimetype": "text/x-python",
   "name": "python",
   "nbconvert_exporter": "python",
   "pygments_lexer": "ipython3",
   "version": "3.12.7"
  }
 },
 "nbformat": 4,
 "nbformat_minor": 5
}
