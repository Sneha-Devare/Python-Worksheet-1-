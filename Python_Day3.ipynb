{
 "cells": [
  {
   "cell_type": "code",
   "execution_count": 5,
   "id": "f4e8a37d-3047-445c-a98c-e81c927c7f8b",
   "metadata": {},
   "outputs": [
    {
     "name": "stdin",
     "output_type": "stream",
     "text": [
      "Enter any number : 10\n",
      "Enter any number : 8\n"
     ]
    },
    {
     "name": "stdout",
     "output_type": "stream",
     "text": [
      "After swapping...\n",
      "a is : 8\n",
      "b is : 10\n"
     ]
    }
   ],
   "source": [
    "# 1. Write a function that takes two integers and returns them in swapped order.\n",
    "\n",
    "def swap(a, b):\n",
    "    a, b = b, a\n",
    "    print(\"After swapping...\")\n",
    "    print(\"a is :\", a)\n",
    "    print(\"b is :\", b)\n",
    "\n",
    "a = int(input(\"Enter any number :\"))\n",
    "b = int(input(\"Enter any number :\"))\n",
    "swap(a, b)"
   ]
  },
  {
   "cell_type": "code",
   "execution_count": 9,
   "id": "b9aa7fa4-14c8-4a94-8842-f7ca8148d340",
   "metadata": {},
   "outputs": [
    {
     "name": "stdin",
     "output_type": "stream",
     "text": [
      "Enter elements of list separated by space : 1 58 9\n"
     ]
    },
    {
     "name": "stdout",
     "output_type": "stream",
     "text": [
      "Largest element is : 58\n"
     ]
    }
   ],
   "source": [
    "# 2. Write a function that returns the largest number in a list, without using max().\n",
    "\n",
    "def largest_number():\n",
    "    list1 = list(map(int, input(\"Enter elements of list separated by space :\").split()))\n",
    "    list1.sort()\n",
    "    print(\"Largest element is :\", list1[-1])\n",
    "\n",
    "largest_number()"
   ]
  },
  {
   "cell_type": "code",
   "execution_count": 17,
   "id": "3a93ee49-ed02-43c3-b9e6-75cf1dd0833c",
   "metadata": {},
   "outputs": [
    {
     "name": "stdin",
     "output_type": "stream",
     "text": [
      "Enter you string : pritee\n",
      "Enter character to change in a string : e\n",
      "Enter new character to replace : i\n"
     ]
    },
    {
     "name": "stdout",
     "output_type": "stream",
     "text": [
      "After changing characters : pritii\n"
     ]
    }
   ],
   "source": [
    "# 3. Write a function that replaces all instances of a character with another in a string, without using str.replace().\n",
    "\n",
    "def replace_char():\n",
    "    string2 = \"\"\n",
    "    string = input(\"Enter you string :\")\n",
    "    char_change = input(\"Enter character to change in a string :\")\n",
    "    new_char = input(\"Enter new character to replace :\")\n",
    "    for char in string :\n",
    "        if char == char_change:\n",
    "            string2 += new_char\n",
    "        else:\n",
    "            string2 += char\n",
    "    print(\"After changing characters :\", string2)\n",
    "replace_char()\n",
    "    "
   ]
  },
  {
   "cell_type": "code",
   "execution_count": 21,
   "id": "ec25e01a-1bde-4c01-9700-b181e1d02c47",
   "metadata": {},
   "outputs": [
    {
     "name": "stdin",
     "output_type": "stream",
     "text": [
      "Enter elements of list1 separated by space : 1 2 3 4\n",
      "Enter elements of list2 separated by space : 3 4 5 6\n"
     ]
    },
    {
     "name": "stdout",
     "output_type": "stream",
     "text": [
      "Common elements are : [3, 4]\n"
     ]
    }
   ],
   "source": [
    "# 4. Write a function that returns a list of common elements between two lists.\n",
    "\n",
    "def common_elements():\n",
    "    list1 = list(map(int, input('Enter elements of list1 separated by space :').split()))\n",
    "    list2 = list(map(int, input('Enter elements of list2 separated by space :').split()))\n",
    "    list3 = []\n",
    "    for element in list1:\n",
    "        if element in list2:\n",
    "            list3.append(element)\n",
    "    print(\"Common elements are :\", list3)\n",
    "\n",
    "common_elements()"
   ]
  },
  {
   "cell_type": "code",
   "execution_count": null,
   "id": "0434ca6d-d36a-4584-9a97-1e453080db46",
   "metadata": {},
   "outputs": [],
   "source": [
    "# 5. Write a function to split a string into words based on spaces (no str.split()).\n",
    "\n",
    "def split_string():\n",
    "    string = input(\"Enter string :\")\n",
    "    for"
   ]
  },
  {
   "cell_type": "code",
   "execution_count": 27,
   "id": "b98832ff-47c6-45a1-abab-0585b8d35638",
   "metadata": {},
   "outputs": [
    {
     "name": "stdout",
     "output_type": "stream",
     "text": [
      "Missing number is : 10\n"
     ]
    }
   ],
   "source": [
    "# 6. Given a list of integers from 1 to n with one number missing, write a function to find the missing number.\n",
    "\n",
    "list1 = [1, 2, 3, 4, 5, 6, 7, 8, 9, 11, 12, 13, 14, 15]\n",
    "sum_of_list_numbers = 0\n",
    "for i in list1:\n",
    "    sum_of_list_numbers += i\n",
    "\n",
    "# sum of numbers from one to n\n",
    "sum_of_numbers_upto_n = 0\n",
    "for a in range(1, 16):\n",
    "   sum_of_numbers_upto_n += a\n",
    "\n",
    "# print(sum_of_list_numbers)\n",
    "# print(sum_of_numbers_upto_n)\n",
    "\n",
    "print(\"Missing number is :\", sum_of_numbers_upto_n - sum_of_list_numbers)"
   ]
  },
  {
   "cell_type": "code",
   "execution_count": 49,
   "id": "076ceb1d-52cd-49f2-854e-fa07dbcac118",
   "metadata": {},
   "outputs": [
    {
     "name": "stdin",
     "output_type": "stream",
     "text": [
      "Enter elements of list separated by space : sneha raj devare\n"
     ]
    },
    {
     "name": "stdout",
     "output_type": "stream",
     "text": [
      "['sneha', 'raj', 'devare']\n"
     ]
    },
    {
     "name": "stdin",
     "output_type": "stream",
     "text": [
      "Enter separator : _\n"
     ]
    },
    {
     "name": "stdout",
     "output_type": "stream",
     "text": [
      "sneha_raj_devare\n"
     ]
    }
   ],
   "source": [
    "# 7. Write a function that joins a list of strings with a given separator (do not use str.join()).\n",
    "\n",
    "def join_strings():\n",
    "    list1 = list(input(\"Enter elements of list separated by space :\").split())\n",
    "    print(list1)\n",
    "    string = \"\"\n",
    "    separator = input(\"Enter separator :\")\n",
    "    counts = 0\n",
    "    for word in list1:\n",
    "        string += word\n",
    "        counts += 1\n",
    "        if counts != len(list1):\n",
    "           string += separator\n",
    "    print(string)\n",
    "\n",
    "join_strings()"
   ]
  },
  {
   "cell_type": "code",
   "execution_count": 75,
   "id": "5057afb1-8613-4425-b150-785163435ad6",
   "metadata": {},
   "outputs": [
    {
     "name": "stdin",
     "output_type": "stream",
     "text": [
      "Enter no to check prime or not : 8\n"
     ]
    },
    {
     "name": "stdout",
     "output_type": "stream",
     "text": [
      "Not prime number.\n"
     ]
    }
   ],
   "source": [
    "# 8. prime number program\n",
    "\n",
    "num = int(input(\"Enter no to check prime or not :\"))\n",
    "if num >= 2:\n",
    "   if num == 2:\n",
    "       print(\"Prime number.\")\n",
    "   else:\n",
    "       if num % 2 != 0:\n",
    "           for i in range(2, num):\n",
    "               if num % i == 0:\n",
    "                   print(\"Not Prime number.\")\n",
    "                   break\n",
    "           else:\n",
    "                print(\"Prime number.\")          \n",
    "       else:\n",
    "           print(\"Not prime number.\")\n",
    "else:\n",
    "  print(\"Not prime number.\") "
   ]
  },
  {
   "cell_type": "code",
   "execution_count": 113,
   "id": "73e86115-025c-4111-87a8-18e20eb3e07a",
   "metadata": {},
   "outputs": [
    {
     "name": "stdin",
     "output_type": "stream",
     "text": [
      "Enter number to check it is kaprekar or not : 5896\n"
     ]
    },
    {
     "name": "stdout",
     "output_type": "stream",
     "text": [
      "4\n"
     ]
    }
   ],
   "source": [
    "# 10. Write a program to check if a number is Kaprekar (e.g., 45² = 2025 → 20 + 25 = 45).\n",
    "\n",
    "number = int(input(\"Enter number to check it is kaprekar or not :\"))\n",
    "square = number * number\n",
    "square_string = str(square)\n",
    "\n",
    "if number == 1:\n",
    "    print(\"1 is kaprekar number.\")\n",
    "    "
   ]
  },
  {
   "cell_type": "code",
   "execution_count": null,
   "id": "5d3f799d-5403-4421-9fe7-a98cd7150539",
   "metadata": {},
   "outputs": [],
   "source": []
  },
  {
   "cell_type": "code",
   "execution_count": null,
   "id": "10312e20-b88e-48f5-a9f3-d9c0fbafb460",
   "metadata": {},
   "outputs": [],
   "source": []
  }
 ],
 "metadata": {
  "kernelspec": {
   "display_name": "Python [conda env:base] *",
   "language": "python",
   "name": "conda-base-py"
  },
  "language_info": {
   "codemirror_mode": {
    "name": "ipython",
    "version": 3
   },
   "file_extension": ".py",
   "mimetype": "text/x-python",
   "name": "python",
   "nbconvert_exporter": "python",
   "pygments_lexer": "ipython3",
   "version": "3.12.7"
  }
 },
 "nbformat": 4,
 "nbformat_minor": 5
}
