{
 "cells": [
  {
   "cell_type": "code",
   "execution_count": 5,
   "id": "e70a07cf-5b52-43c5-9f5e-ca7160cc59f6",
   "metadata": {},
   "outputs": [
    {
     "name": "stdout",
     "output_type": "stream",
     "text": [
      "Count of odd numbers : 8\n"
     ]
    }
   ],
   "source": [
    "# 1. Write a function that will count how many odd numbers is present in a given list of integers. \n",
    "\n",
    "list1 = [10, 11, 15, 12, 45, 56, 59, 57, 55, 11, 23]\n",
    "count_odd = 0\n",
    "for i in list1:\n",
    "    if i % 2 != 0:\n",
    "        count_odd += 1\n",
    "print(\"Count of odd numbers :\", count_odd)"
   ]
  },
  {
   "cell_type": "code",
   "execution_count": 7,
   "id": "ad89e02d-8b64-4fb6-8b9a-70fa91eef24b",
   "metadata": {},
   "outputs": [
    {
     "name": "stdout",
     "output_type": "stream",
     "text": [
      "[1, 8, 27, 64, 125, 216, 343, 512]\n"
     ]
    }
   ],
   "source": [
    "# 2 .Write a lambda expression that will cube all the numbers in the list below\n",
    "# num = [1,2,3,4,5,6,7,8]\n",
    "\n",
    "num = [1,2,3,4,5,6,7,8]\n",
    "cube = list(map(lambda x : x*x*x, num))\n",
    "print(cube)"
   ]
  },
  {
   "cell_type": "code",
   "execution_count": 9,
   "id": "e842af8a-42f4-4862-8f03-0c8d6d89e87f",
   "metadata": {},
   "outputs": [
    {
     "name": "stdout",
     "output_type": "stream",
     "text": [
      "sneha\n",
      "85000\n"
     ]
    }
   ],
   "source": [
    "# 3. Write a program to create a function show_employee() with the following specifications:\n",
    "# It should accept the employee’s name and salary.\n",
    "# It should display both the name and salary.\n",
    "# If the salary is not provided in the function call, it should default to 9000.\n",
    "\n",
    "def show_employee(name, salary = 9000):\n",
    "    print(name)\n",
    "    print(salary)\n",
    "\n",
    "\n",
    "show_employee('sneha', 85000)   "
   ]
  },
  {
   "cell_type": "code",
   "execution_count": 11,
   "id": "3257485c-4742-4876-9793-4e3a3fd15bd0",
   "metadata": {},
   "outputs": [
    {
     "name": "stdout",
     "output_type": "stream",
     "text": [
      "120\n",
      "2184\n"
     ]
    }
   ],
   "source": [
    "# 4. Write a function that will take in an unknown number of arguments and multiply all of them together and run the function for these 2 sets of numbers:\n",
    "# 1,2,3,4,5\n",
    "# 12,13,14\n",
    "# *args function takes any number of positional arguments. These arguments are received as a tuples.\n",
    "\n",
    "def multiply(*args):\n",
    "    product = 1\n",
    "    for num in args:\n",
    "        product *= num\n",
    "    return product\n",
    "\n",
    "print(multiply(1, 2, 3, 4, 5))\n",
    "print(multiply(12, 13, 14))"
   ]
  },
  {
   "cell_type": "code",
   "execution_count": 15,
   "id": "8280d05b-3668-42b9-af2a-02d2741b02d9",
   "metadata": {},
   "outputs": [
    {
     "name": "stdin",
     "output_type": "stream",
     "text": [
      "Enter function name : addition\n",
      "Enter value of x : 10\n",
      "Enter value of y : 20\n"
     ]
    },
    {
     "data": {
      "text/plain": [
       "30"
      ]
     },
     "execution_count": 15,
     "metadata": {},
     "output_type": "execute_result"
    }
   ],
   "source": [
    "# 4. Write a function apply_operation(func, x, y) that takes a function func and two numbers x and y as arguments, and returns the result of calling func(x, y). Demonstrate its use with different functions (e.g., addition, subtraction).\n",
    "\n",
    "def apply_operations(func, x, y):\n",
    "        if func == 'addition':\n",
    "            return x+y\n",
    "        elif func == 'subtraction':\n",
    "            return x-y\n",
    "        elif func == 'multiplication':\n",
    "            return x*y\n",
    "func = input(\"Enter function name :\")\n",
    "x = int(input(\"Enter value of x :\"))\n",
    "y = int(input(\"Enter value of y :\"))\n",
    "apply_operations(func, x, y)"
   ]
  },
  {
   "cell_type": "code",
   "execution_count": null,
   "id": "2881ceb4-0794-4f3f-978b-37f5a256903d",
   "metadata": {},
   "outputs": [],
   "source": []
  }
 ],
 "metadata": {
  "kernelspec": {
   "display_name": "Python [conda env:base] *",
   "language": "python",
   "name": "conda-base-py"
  },
  "language_info": {
   "codemirror_mode": {
    "name": "ipython",
    "version": 3
   },
   "file_extension": ".py",
   "mimetype": "text/x-python",
   "name": "python",
   "nbconvert_exporter": "python",
   "pygments_lexer": "ipython3",
   "version": "3.12.7"
  }
 },
 "nbformat": 4,
 "nbformat_minor": 5
}
